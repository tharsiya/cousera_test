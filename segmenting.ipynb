{
 "cells": [
  {
   "cell_type": "markdown",
   "metadata": {},
   "source": [
    "### The dataframe will consist of three columns: PostalCode, Borough, and Neighborhood"
   ]
  },
  {
   "cell_type": "code",
   "execution_count": null,
   "metadata": {},
   "outputs": [],
   "source": [
    "import bs4 as bs\n",
    "import urllib.request\n",
    "l = []\n",
    "source = urllib.request.urlopen('https://en.wikipedia.org/wiki/List_of_postal_codes_of_Canada:_M').read()\n",
    "soup = bs.BeautifulSoup(source,'html5lib')\n",
    "table = soup.find('table')\n",
    "table_rows = table.find_all('tr')\n",
    "for tr in table_rows:\n",
    "    td = tr.find_all('td')\n",
    "    row = [i.text for i in td]\n",
    "    l.append(row)\n",
    "r = pd.DataFrame(l, columns=[\"Postalcode\", \"Borough\",\"Neighbourhood\"])"
   ]
  },
  {
   "cell_type": "markdown",
   "metadata": {},
   "source": [
    "### Only process the cells that have an assigned borough. Ignore cells with a borough that is Not assigned."
   ]
  },
  {
   "cell_type": "code",
   "execution_count": 131,
   "metadata": {},
   "outputs": [
    {
     "name": "stdout",
     "output_type": "stream",
     "text": [
      "    Postalcode           Borough               Neighbourhood\n",
      "0         None              None                        None\n",
      "3          M3A        North York                 Parkwoods\\n\n",
      "4          M4A        North York          Victoria Village\\n\n",
      "5          M5A  Downtown Toronto              Harbourfront\\n\n",
      "6          M6A        North York          Lawrence Heights\\n\n",
      "..         ...               ...                         ...\n",
      "282        M8Z         Etobicoke  Kingsway Park South West\\n\n",
      "283        M8Z         Etobicoke                 Mimico NW\\n\n",
      "284        M8Z         Etobicoke        The Queensway West\\n\n",
      "285        M8Z         Etobicoke     Royal York South West\\n\n",
      "286        M8Z         Etobicoke            South of Bloor\\n\n",
      "\n",
      "[211 rows x 3 columns]\n"
     ]
    }
   ],
   "source": [
    "##Removing the not assigned values in Borough\n",
    "\n",
    "r = r[r['Borough'] != 'Not assigned']\n",
    "print(r)"
   ]
  },
  {
   "cell_type": "markdown",
   "metadata": {},
   "source": [
    "### Two rows will be combined into one row with the neighborhoods separated with a comma when single postal code has has two neighborhoods"
   ]
  },
  {
   "cell_type": "code",
   "execution_count": 116,
   "metadata": {},
   "outputs": [],
   "source": [
    "r1=r.groupby(\"Postalcode\").agg(lambda x:','.join(set(x)))\n",
    "###set A Set is an unordered collection data type that is iterable, mutable, and has no duplicate elements. "
   ]
  },
  {
   "cell_type": "markdown",
   "metadata": {},
   "source": [
    "### if a cell has a borough but a Not assigned neighborhood, then the neighborhood will be the same as the borough. "
   ]
  },
  {
   "cell_type": "code",
   "execution_count": 129,
   "metadata": {},
   "outputs": [],
   "source": [
    "r1.loc[r1['Neighbourhood']==\"Not assigned\",'Neighbourhood']=r1.loc[r1['Neighbourhood']==\"Not assigned\",'Borough']"
   ]
  },
  {
   "cell_type": "markdown",
   "metadata": {},
   "source": [
    "### using the shape method "
   ]
  },
  {
   "cell_type": "code",
   "execution_count": 130,
   "metadata": {},
   "outputs": [
    {
     "data": {
      "text/plain": [
       "(103, 2)"
      ]
     },
     "execution_count": 130,
     "metadata": {},
     "output_type": "execute_result"
    }
   ],
   "source": [
    "r1.shape"
   ]
  },
  {
   "cell_type": "code",
   "execution_count": null,
   "metadata": {},
   "outputs": [],
   "source": []
  }
 ],
 "metadata": {
  "kernelspec": {
   "display_name": "Python",
   "language": "python",
   "name": "conda-env-python-py"
  },
  "language_info": {
   "codemirror_mode": {
    "name": "ipython",
    "version": 3
   },
   "file_extension": ".py",
   "mimetype": "text/x-python",
   "name": "python",
   "nbconvert_exporter": "python",
   "pygments_lexer": "ipython3",
   "version": "3.6.7"
  }
 },
 "nbformat": 4,
 "nbformat_minor": 4
}
